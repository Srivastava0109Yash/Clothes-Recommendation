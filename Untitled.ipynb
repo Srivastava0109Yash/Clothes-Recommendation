{
 "cells": [
  {
   "cell_type": "code",
   "execution_count": 2,
   "id": "8d518552",
   "metadata": {},
   "outputs": [
    {
     "name": "stderr",
     "output_type": "stream",
     "text": [
      "C:\\Users\\Yash\\.conda\\envs\\tensor2\\lib\\site-packages\\scipy\\__init__.py:146: UserWarning: A NumPy version >=1.16.5 and <1.23.0 is required for this version of SciPy (detected version 1.23.1\n",
      "  warnings.warn(f\"A NumPy version >={np_minversion} and <{np_maxversion}\"\n"
     ]
    }
   ],
   "source": [
    "import tensorflow as tf\n",
    "from tensorflow.keras.layers import GlobalMaxPooling2D\n",
    "from tensorflow.keras.applications.resnet50 import ResNet50,preprocess_input\n",
    "import numpy as np\n",
    "from numpy.linalg import norm   \n",
    "from tqdm import tqdm\n",
    "import pickle"
   ]
  },
  {
   "cell_type": "code",
   "execution_count": 3,
   "id": "28034eb3",
   "metadata": {},
   "outputs": [
    {
     "data": {
      "text/plain": [
       "[PhysicalDevice(name='/physical_device:CPU:0', device_type='CPU'),\n",
       " PhysicalDevice(name='/physical_device:GPU:0', device_type='GPU')]"
      ]
     },
     "execution_count": 3,
     "metadata": {},
     "output_type": "execute_result"
    }
   ],
   "source": [
    "tf.config.experimental.list_physical_devices()"
   ]
  },
  {
   "cell_type": "code",
   "execution_count": 4,
   "id": "695a514b",
   "metadata": {},
   "outputs": [],
   "source": [
    "model =ResNet50(weights='imagenet',include_top=False,input_shape=(224,224,3))\n",
    "model.trainable=False"
   ]
  },
  {
   "cell_type": "code",
   "execution_count": 5,
   "id": "7650ace7",
   "metadata": {},
   "outputs": [],
   "source": [
    "model=tf.keras.Sequential([\n",
    "    model,\n",
    "    GlobalMaxPooling2D()\n",
    "])"
   ]
  },
  {
   "cell_type": "code",
   "execution_count": 6,
   "id": "4bc1c479",
   "metadata": {},
   "outputs": [
    {
     "name": "stdout",
     "output_type": "stream",
     "text": [
      "Model: \"sequential\"\n",
      "_________________________________________________________________\n",
      "Layer (type)                 Output Shape              Param #   \n",
      "=================================================================\n",
      "resnet50 (Functional)        (None, 7, 7, 2048)        23587712  \n",
      "_________________________________________________________________\n",
      "global_max_pooling2d (Global (None, 2048)              0         \n",
      "=================================================================\n",
      "Total params: 23,587,712\n",
      "Trainable params: 0\n",
      "Non-trainable params: 23,587,712\n",
      "_________________________________________________________________\n",
      "None\n"
     ]
    }
   ],
   "source": [
    "print(model.summary())"
   ]
  },
  {
   "cell_type": "code",
   "execution_count": 7,
   "id": "3dcc2a79",
   "metadata": {},
   "outputs": [],
   "source": [
    "from tensorflow.keras.preprocessing import image\n"
   ]
  },
  {
   "cell_type": "code",
   "execution_count": 8,
   "id": "e5f79828",
   "metadata": {},
   "outputs": [],
   "source": [
    "def extract_features(img_path,model):\n",
    "    img = image.load_img(img_path,target_size=(224,224))\n",
    "    img_array = image.img_to_array(img)\n",
    "    expanded_img_array = np.expand_dims(img_array, axis=0)\n",
    "    preprocessed_img = preprocess_input(expanded_img_array)\n",
    "    result = model.predict(preprocessed_img).flatten()\n",
    "    normalized_result = result / norm(result)\n",
    "\n",
    "    return normalized_result"
   ]
  },
  {
   "cell_type": "code",
   "execution_count": 9,
   "id": "5874a1f6",
   "metadata": {},
   "outputs": [],
   "source": [
    "import os"
   ]
  },
  {
   "cell_type": "code",
   "execution_count": 10,
   "id": "9d3fb946",
   "metadata": {},
   "outputs": [],
   "source": [
    "filenames=[]\n",
    "\n",
    "for file in os.listdir('images'):\n",
    "    filenames.append(os.path.join('images',file))\n",
    "    "
   ]
  },
  {
   "cell_type": "code",
   "execution_count": 11,
   "id": "0cb84cab",
   "metadata": {},
   "outputs": [
    {
     "name": "stdout",
     "output_type": "stream",
     "text": [
      "44441\n",
      "['images\\\\10000.jpg', 'images\\\\10001.jpg', 'images\\\\10002.jpg', 'images\\\\10003.jpg', 'images\\\\10004.jpg', 'images\\\\10005.jpg']\n"
     ]
    }
   ],
   "source": [
    "print(len(filenames))\n",
    "print(filenames[0:6])"
   ]
  },
  {
   "cell_type": "code",
   "execution_count": null,
   "id": "096801d4",
   "metadata": {
    "scrolled": true
   },
   "outputs": [
    {
     "name": "stderr",
     "output_type": "stream",
     "text": [
      " 14%|█▎        | 6017/44441 [39:48<1:16:24,  8.38it/s]    "
     ]
    }
   ],
   "source": [
    "feature_list=[]\n",
    "\n",
    "for file in tqdm(filenames):\n",
    "    feature_list.append(extract_features(file,model))"
   ]
  },
  {
   "cell_type": "code",
   "execution_count": null,
   "id": "cb51a7de",
   "metadata": {},
   "outputs": [],
   "source": [
    "pickle.dump(feature_list,open('embeddings.pkl','wb'))\n",
    "pickle.dump(filenames,open('filenames','wb'))"
   ]
  },
  {
   "cell_type": "code",
   "execution_count": null,
   "id": "86908d5f",
   "metadata": {},
   "outputs": [],
   "source": [
    "print(np.array(feature_list).shape)"
   ]
  },
  {
   "cell_type": "code",
   "execution_count": null,
   "id": "8ef5dddf",
   "metadata": {},
   "outputs": [],
   "source": []
  }
 ],
 "metadata": {
  "kernelspec": {
   "display_name": "Python 3 (ipykernel)",
   "language": "python",
   "name": "python3"
  },
  "language_info": {
   "codemirror_mode": {
    "name": "ipython",
    "version": 3
   },
   "file_extension": ".py",
   "mimetype": "text/x-python",
   "name": "python",
   "nbconvert_exporter": "python",
   "pygments_lexer": "ipython3",
   "version": "3.9.13"
  }
 },
 "nbformat": 4,
 "nbformat_minor": 5
}
